{
 "cells": [
  {
   "cell_type": "code",
   "execution_count": 20,
   "metadata": {
    "id": "_0l7PNeN2_AK"
   },
   "outputs": [],
   "source": [
    "import numpy as np\n",
    "import pandas as pd\n"
   ]
  },
  {
   "cell_type": "code",
   "execution_count": 21,
   "metadata": {
    "colab": {
     "base_uri": "https://localhost:8080/",
     "height": 469
    },
    "id": "1ter58aM3vnL",
    "outputId": "3a8d13da-fb92-4aa1-e385-a5b988ce6ff0"
   },
   "outputs": [
    {
     "data": {
      "text/html": [
       "<div>\n",
       "<style scoped>\n",
       "    .dataframe tbody tr th:only-of-type {\n",
       "        vertical-align: middle;\n",
       "    }\n",
       "\n",
       "    .dataframe tbody tr th {\n",
       "        vertical-align: top;\n",
       "    }\n",
       "\n",
       "    .dataframe thead th {\n",
       "        text-align: right;\n",
       "    }\n",
       "</style>\n",
       "<table border=\"1\" class=\"dataframe\">\n",
       "  <thead>\n",
       "    <tr style=\"text-align: right;\">\n",
       "      <th></th>\n",
       "      <th>Date</th>\n",
       "      <th>Accident Spot</th>\n",
       "      <th>Area</th>\n",
       "      <th>County</th>\n",
       "      <th>Road/ Highway</th>\n",
       "      <th>Brief Accident Details/Cause</th>\n",
       "      <th>Victims</th>\n",
       "      <th>Total people confirmed dead</th>\n",
       "      <th>Time of the Accidents</th>\n",
       "      <th>Weather conditions</th>\n",
       "    </tr>\n",
       "  </thead>\n",
       "  <tbody>\n",
       "    <tr>\n",
       "      <th>0</th>\n",
       "      <td>2023-08-08</td>\n",
       "      <td>Sobea</td>\n",
       "      <td>Sobea</td>\n",
       "      <td>Nakuru</td>\n",
       "      <td>Nakuru-Eldoret Highway</td>\n",
       "      <td>Head on Collision</td>\n",
       "      <td>Passengers</td>\n",
       "      <td>4</td>\n",
       "      <td>4.30 pm</td>\n",
       "      <td>NaN</td>\n",
       "    </tr>\n",
       "    <tr>\n",
       "      <th>1</th>\n",
       "      <td>2023-08-07</td>\n",
       "      <td>Maai-Mahiu</td>\n",
       "      <td>Naivasha</td>\n",
       "      <td>Nakuru</td>\n",
       "      <td>Maai-Mahiu Naivasha Highway</td>\n",
       "      <td>vehicle and motorcycle collision</td>\n",
       "      <td>Passengers</td>\n",
       "      <td>1</td>\n",
       "      <td>5.50 pm</td>\n",
       "      <td>NaN</td>\n",
       "    </tr>\n",
       "    <tr>\n",
       "      <th>2</th>\n",
       "      <td>2023-07-25</td>\n",
       "      <td>Ntulele</td>\n",
       "      <td>Ntulele</td>\n",
       "      <td>Narok</td>\n",
       "      <td>Narok Mai Mahiu road</td>\n",
       "      <td>Head on Collision</td>\n",
       "      <td>Drivers/Occupants</td>\n",
       "      <td>4</td>\n",
       "      <td>NaN</td>\n",
       "      <td>NaN</td>\n",
       "    </tr>\n",
       "    <tr>\n",
       "      <th>3</th>\n",
       "      <td>2022-12-02</td>\n",
       "      <td>Suswa</td>\n",
       "      <td>Suswa</td>\n",
       "      <td>Narok</td>\n",
       "      <td>Narok Mai Mahiu road</td>\n",
       "      <td>Head on Collision</td>\n",
       "      <td>Driver and passengers</td>\n",
       "      <td>3</td>\n",
       "      <td>6.00 pm</td>\n",
       "      <td>NaN</td>\n",
       "    </tr>\n",
       "    <tr>\n",
       "      <th>4</th>\n",
       "      <td>2022-12-01</td>\n",
       "      <td>Mutira</td>\n",
       "      <td>Mutira</td>\n",
       "      <td>Kirinyaga</td>\n",
       "      <td>Kerugoya-Karatina Road</td>\n",
       "      <td>Run over</td>\n",
       "      <td>Pedestrian</td>\n",
       "      <td>1</td>\n",
       "      <td>NaN</td>\n",
       "      <td>NaN</td>\n",
       "    </tr>\n",
       "  </tbody>\n",
       "</table>\n",
       "</div>"
      ],
      "text/plain": [
       "        Date Accident Spot      Area     County                Road/ Highway  \\\n",
       "0 2023-08-08         Sobea     Sobea     Nakuru       Nakuru-Eldoret Highway   \n",
       "1 2023-08-07    Maai-Mahiu  Naivasha     Nakuru  Maai-Mahiu Naivasha Highway   \n",
       "2 2023-07-25       Ntulele   Ntulele      Narok         Narok Mai Mahiu road   \n",
       "3 2022-12-02         Suswa     Suswa      Narok         Narok Mai Mahiu road   \n",
       "4 2022-12-01        Mutira    Mutira  Kirinyaga       Kerugoya-Karatina Road   \n",
       "\n",
       "       Brief Accident Details/Cause                Victims  \\\n",
       "0                 Head on Collision             Passengers   \n",
       "1  vehicle and motorcycle collision             Passengers   \n",
       "2                 Head on Collision      Drivers/Occupants   \n",
       "3                 Head on Collision  Driver and passengers   \n",
       "4                          Run over             Pedestrian   \n",
       "\n",
       "  Total people confirmed dead Time of the Accidents Weather conditions  \n",
       "0                           4               4.30 pm                NaN  \n",
       "1                           1               5.50 pm                NaN  \n",
       "2                           4                   NaN                NaN  \n",
       "3                           3               6.00 pm                NaN  \n",
       "4                           1                   NaN                NaN  "
      ]
     },
     "execution_count": 21,
     "metadata": {},
     "output_type": "execute_result"
    }
   ],
   "source": [
    "raw_traffic_data = pd.read_excel('data/TRAFFIC ACCIDENTS DATA.xlsx')\n",
    "raw_traffic_data.head()"
   ]
  },
  {
   "cell_type": "markdown",
   "metadata": {
    "id": "NBGXGYXu7WWq"
   },
   "source": [
    "**Select columns to be used**"
   ]
  },
  {
   "cell_type": "code",
   "execution_count": 22,
   "metadata": {
    "colab": {
     "base_uri": "https://localhost:8080/",
     "height": 206
    },
    "id": "gJeJ_6x_7mOT",
    "outputId": "b76a950d-5f09-40c0-ffd2-79418f276db8"
   },
   "outputs": [
    {
     "data": {
      "text/html": [
       "<div>\n",
       "<style scoped>\n",
       "    .dataframe tbody tr th:only-of-type {\n",
       "        vertical-align: middle;\n",
       "    }\n",
       "\n",
       "    .dataframe tbody tr th {\n",
       "        vertical-align: top;\n",
       "    }\n",
       "\n",
       "    .dataframe thead th {\n",
       "        text-align: right;\n",
       "    }\n",
       "</style>\n",
       "<table border=\"1\" class=\"dataframe\">\n",
       "  <thead>\n",
       "    <tr style=\"text-align: right;\">\n",
       "      <th></th>\n",
       "      <th>Date</th>\n",
       "      <th>County</th>\n",
       "      <th>Road/ Highway</th>\n",
       "      <th>Total people confirmed dead</th>\n",
       "    </tr>\n",
       "  </thead>\n",
       "  <tbody>\n",
       "    <tr>\n",
       "      <th>0</th>\n",
       "      <td>2023-08-08</td>\n",
       "      <td>Nakuru</td>\n",
       "      <td>Nakuru-Eldoret Highway</td>\n",
       "      <td>4</td>\n",
       "    </tr>\n",
       "    <tr>\n",
       "      <th>1</th>\n",
       "      <td>2023-08-07</td>\n",
       "      <td>Nakuru</td>\n",
       "      <td>Maai-Mahiu Naivasha Highway</td>\n",
       "      <td>1</td>\n",
       "    </tr>\n",
       "    <tr>\n",
       "      <th>2</th>\n",
       "      <td>2023-07-25</td>\n",
       "      <td>Narok</td>\n",
       "      <td>Narok Mai Mahiu road</td>\n",
       "      <td>4</td>\n",
       "    </tr>\n",
       "    <tr>\n",
       "      <th>3</th>\n",
       "      <td>2022-12-02</td>\n",
       "      <td>Narok</td>\n",
       "      <td>Narok Mai Mahiu road</td>\n",
       "      <td>3</td>\n",
       "    </tr>\n",
       "    <tr>\n",
       "      <th>4</th>\n",
       "      <td>2022-12-01</td>\n",
       "      <td>Kirinyaga</td>\n",
       "      <td>Kerugoya-Karatina Road</td>\n",
       "      <td>1</td>\n",
       "    </tr>\n",
       "  </tbody>\n",
       "</table>\n",
       "</div>"
      ],
      "text/plain": [
       "        Date     County                Road/ Highway  \\\n",
       "0 2023-08-08     Nakuru       Nakuru-Eldoret Highway   \n",
       "1 2023-08-07     Nakuru  Maai-Mahiu Naivasha Highway   \n",
       "2 2023-07-25      Narok         Narok Mai Mahiu road   \n",
       "3 2022-12-02      Narok         Narok Mai Mahiu road   \n",
       "4 2022-12-01  Kirinyaga       Kerugoya-Karatina Road   \n",
       "\n",
       "  Total people confirmed dead  \n",
       "0                           4  \n",
       "1                           1  \n",
       "2                           4  \n",
       "3                           3  \n",
       "4                           1  "
      ]
     },
     "execution_count": 22,
     "metadata": {},
     "output_type": "execute_result"
    }
   ],
   "source": [
    "traffic_df = raw_traffic_data.drop(columns = [\"Weather conditions\" ,\"Accident Spot\" ,\"Area\" ,\"Time of the Accidents\" ,\"Brief Accident Details/Cause\" ,\"Victims\"])\n",
    "traffic_df.head()"
   ]
  },
  {
   "cell_type": "code",
   "execution_count": 23,
   "metadata": {
    "colab": {
     "base_uri": "https://localhost:8080/",
     "height": 615
    },
    "id": "S0WKF7nbAe8T",
    "outputId": "3358f3cc-203a-497a-9193-d64f4091e188"
   },
   "outputs": [
    {
     "data": {
      "text/html": [
       "<div>\n",
       "<style scoped>\n",
       "    .dataframe tbody tr th:only-of-type {\n",
       "        vertical-align: middle;\n",
       "    }\n",
       "\n",
       "    .dataframe tbody tr th {\n",
       "        vertical-align: top;\n",
       "    }\n",
       "\n",
       "    .dataframe thead th {\n",
       "        text-align: right;\n",
       "    }\n",
       "</style>\n",
       "<table border=\"1\" class=\"dataframe\">\n",
       "  <thead>\n",
       "    <tr style=\"text-align: right;\">\n",
       "      <th></th>\n",
       "      <th>Date</th>\n",
       "      <th>County</th>\n",
       "      <th>Road/ Highway</th>\n",
       "      <th>Total people confirmed dead</th>\n",
       "    </tr>\n",
       "  </thead>\n",
       "  <tbody>\n",
       "    <tr>\n",
       "      <th>0</th>\n",
       "      <td>2023-08-08 00:00:00</td>\n",
       "      <td>Nakuru</td>\n",
       "      <td>Nakuru-Eldoret Highway</td>\n",
       "      <td>4</td>\n",
       "    </tr>\n",
       "    <tr>\n",
       "      <th>1</th>\n",
       "      <td>2023-08-07 00:00:00</td>\n",
       "      <td>Nakuru</td>\n",
       "      <td>Maai-Mahiu Naivasha Highway</td>\n",
       "      <td>1</td>\n",
       "    </tr>\n",
       "    <tr>\n",
       "      <th>2</th>\n",
       "      <td>2023-07-25 00:00:00</td>\n",
       "      <td>Narok</td>\n",
       "      <td>Narok Mai Mahiu road</td>\n",
       "      <td>4</td>\n",
       "    </tr>\n",
       "    <tr>\n",
       "      <th>3</th>\n",
       "      <td>2022-12-02 00:00:00</td>\n",
       "      <td>Narok</td>\n",
       "      <td>Narok Mai Mahiu road</td>\n",
       "      <td>3</td>\n",
       "    </tr>\n",
       "    <tr>\n",
       "      <th>4</th>\n",
       "      <td>2022-12-01 00:00:00</td>\n",
       "      <td>Kirinyaga</td>\n",
       "      <td>Kerugoya-Karatina Road</td>\n",
       "      <td>1</td>\n",
       "    </tr>\n",
       "    <tr>\n",
       "      <th>...</th>\n",
       "      <td>...</td>\n",
       "      <td>...</td>\n",
       "      <td>...</td>\n",
       "      <td>...</td>\n",
       "    </tr>\n",
       "    <tr>\n",
       "      <th>76</th>\n",
       "      <td>2022-06-03 00:00:00</td>\n",
       "      <td>Vihiga</td>\n",
       "      <td>Nairobi Kakamega road</td>\n",
       "      <td>1</td>\n",
       "    </tr>\n",
       "    <tr>\n",
       "      <th>77</th>\n",
       "      <td>2022-05-31 00:00:00</td>\n",
       "      <td>Kajiado</td>\n",
       "      <td>Namanga Road</td>\n",
       "      <td>1</td>\n",
       "    </tr>\n",
       "    <tr>\n",
       "      <th>78</th>\n",
       "      <td>2022-05-30 00:00:00</td>\n",
       "      <td>Nakuru</td>\n",
       "      <td>Naivasha Nairobi Highway</td>\n",
       "      <td>1</td>\n",
       "    </tr>\n",
       "    <tr>\n",
       "      <th>79</th>\n",
       "      <td>2022-02-28 00:00:00</td>\n",
       "      <td>Nakuru</td>\n",
       "      <td>Nakuru - Nairobi highway</td>\n",
       "      <td>4</td>\n",
       "    </tr>\n",
       "    <tr>\n",
       "      <th>80</th>\n",
       "      <td>2023-08-08 00:00:00</td>\n",
       "      <td>Nakuru</td>\n",
       "      <td>Nakuru Eldoret Highway</td>\n",
       "      <td>2</td>\n",
       "    </tr>\n",
       "  </tbody>\n",
       "</table>\n",
       "<p>81 rows × 4 columns</p>\n",
       "</div>"
      ],
      "text/plain": [
       "                   Date     County                Road/ Highway  \\\n",
       "0   2023-08-08 00:00:00     Nakuru       Nakuru-Eldoret Highway   \n",
       "1   2023-08-07 00:00:00     Nakuru  Maai-Mahiu Naivasha Highway   \n",
       "2   2023-07-25 00:00:00      Narok         Narok Mai Mahiu road   \n",
       "3   2022-12-02 00:00:00      Narok         Narok Mai Mahiu road   \n",
       "4   2022-12-01 00:00:00  Kirinyaga       Kerugoya-Karatina Road   \n",
       "..                  ...        ...                          ...   \n",
       "76  2022-06-03 00:00:00     Vihiga        Nairobi Kakamega road   \n",
       "77  2022-05-31 00:00:00    Kajiado                 Namanga Road   \n",
       "78  2022-05-30 00:00:00     Nakuru     Naivasha Nairobi Highway   \n",
       "79  2022-02-28 00:00:00     Nakuru    Nakuru - Nairobi highway    \n",
       "80  2023-08-08 00:00:00     Nakuru       Nakuru Eldoret Highway   \n",
       "\n",
       "   Total people confirmed dead  \n",
       "0                            4  \n",
       "1                            1  \n",
       "2                            4  \n",
       "3                            3  \n",
       "4                            1  \n",
       "..                         ...  \n",
       "76                           1  \n",
       "77                           1  \n",
       "78                           1  \n",
       "79                           4  \n",
       "80                           2  \n",
       "\n",
       "[81 rows x 4 columns]"
      ]
     },
     "execution_count": 23,
     "metadata": {},
     "output_type": "execute_result"
    }
   ],
   "source": [
    "# traffic_df.info()\n",
    "null_dead_df = traffic_df[traffic_df[\"Total people confirmed dead\"].isna()]\n",
    "null_dead_df\n",
    "clean_df = traffic_df.fillna(0)\n",
    "clean_df"
   ]
  },
  {
   "cell_type": "code",
   "execution_count": 24,
   "metadata": {
    "colab": {
     "base_uri": "https://localhost:8080/",
     "height": 210
    },
    "id": "u0iY6jK4Hg32",
    "outputId": "222df421-9c92-449f-dc37-1a81c34d8aa4"
   },
   "outputs": [
    {
     "data": {
      "text/plain": [
       "Date                           object\n",
       "County                         object\n",
       "Road/ Highway                  object\n",
       "Total people confirmed dead     Int64\n",
       "dtype: object"
      ]
     },
     "execution_count": 24,
     "metadata": {},
     "output_type": "execute_result"
    }
   ],
   "source": [
    "\n",
    "clean_df['Total people confirmed dead'] = pd.to_numeric(clean_df['Total people confirmed dead'], errors='coerce').astype('Int64')\n",
    "\n",
    "clean_df.dtypes\n",
    "\n",
    "# location_based_casualty_df = clean_df[[\"County\", \"Total people confirmed dead\"]]\n",
    "# location_based_casualty_df\n"
   ]
  },
  {
   "cell_type": "code",
   "execution_count": 25,
   "metadata": {
    "colab": {
     "base_uri": "https://localhost:8080/"
    },
    "id": "71uwE_O0-uTd",
    "outputId": "32545edb-b03a-4acf-e191-5e2a7a7c930e"
   },
   "outputs": [
    {
     "data": {
      "text/plain": [
       "array(['Nakuru', 'Narok', 'Kirinyaga', \"Murang'a\", 'Tharaka Nithi',\n",
       "       'Nairobi ', 'Naivasha', 'Makueni', 'Bomet', 'Kisumu', 'Kajiado',\n",
       "       'Kwale', 'Nairobi', 'Homabay', 'Kakamega', 'Isiolo',\n",
       "       'Uansin Gishi', 'Migori', 'Kiambu', 'Taita Taveta', 'Kisii',\n",
       "       'Kilifi', 'Muranga', 'Turkana', 'Kitui', 'Vihiga'], dtype=object)"
      ]
     },
     "execution_count": 25,
     "metadata": {},
     "output_type": "execute_result"
    }
   ],
   "source": [
    "location_based_casualty_df = clean_df[[\"County\", \"Total people confirmed dead\"]]\n",
    "location_based_casualty_df[\"County\"].unique()"
   ]
  },
  {
   "cell_type": "markdown",
   "metadata": {
    "id": "3TfAueVuCMZ4"
   },
   "source": [
    "### Distribution of Fatalities"
   ]
  },
  {
   "cell_type": "code",
   "execution_count": 26,
   "metadata": {
    "colab": {
     "base_uri": "https://localhost:8080/",
     "height": 472
    },
    "id": "hQy-QAz6AFxw",
    "outputId": "de37a871-c6a1-4ee7-9fff-d056b7bd4fd2"
   },
   "outputs": [
    {
     "data": {
      "image/png": "[encoded data removed]",
      "text/plain": [
       "<Figure size 640x480 with 1 Axes>"
      ]
     },
     "metadata": {},
     "output_type": "display_data"
    }
   ],
   "source": [
    "import matplotlib.pyplot as plt\n",
    "import numpy as np\n",
    "\n",
    "\n",
    "# Create the histogram\n",
    "plt.hist(location_based_casualty_df['Total people confirmed dead'], edgecolor='black')\n",
    "\n",
    "# Customize x-axis ticks\n",
    "start, end = clean_df['Total people confirmed dead'].min(), clean_df['Total people confirmed dead'].max() # get min/max values\n",
    "bins = np.arange(start, end , 5) # create bins with increments of 5\n",
    "plt.xticks(bins) # set the ticks to these bins\n",
    "\n",
    "# Add labels and title\n",
    "plt.xlabel('Total People Confirmed Dead')\n",
    "plt.ylabel('Frequency')\n",
    "plt.title('Histogram of Casualties')\n",
    "\n",
    "# Display the histogram\n",
    "plt.show()"
   ]
  },
  {
   "cell_type": "code",
   "execution_count": 27,
   "metadata": {
    "colab": {
     "base_uri": "https://localhost:8080/",
     "height": 81
    },
    "id": "OCIgENsD_DIX",
    "outputId": "bf4fcd0e-9fc9-4eba-fea8-c4fa88a7208d"
   },
   "outputs": [
    {
     "data": {
      "text/html": [
       "<div>\n",
       "<style scoped>\n",
       "    .dataframe tbody tr th:only-of-type {\n",
       "        vertical-align: middle;\n",
       "    }\n",
       "\n",
       "    .dataframe tbody tr th {\n",
       "        vertical-align: top;\n",
       "    }\n",
       "\n",
       "    .dataframe thead th {\n",
       "        text-align: right;\n",
       "    }\n",
       "</style>\n",
       "<table border=\"1\" class=\"dataframe\">\n",
       "  <thead>\n",
       "    <tr style=\"text-align: right;\">\n",
       "      <th></th>\n",
       "      <th>Date</th>\n",
       "      <th>County</th>\n",
       "      <th>Road/ Highway</th>\n",
       "      <th>Total people confirmed dead</th>\n",
       "    </tr>\n",
       "  </thead>\n",
       "  <tbody>\n",
       "    <tr>\n",
       "      <th>18</th>\n",
       "      <td>2023-06-30 00:00:00</td>\n",
       "      <td>Nakuru</td>\n",
       "      <td>Nakuru Kericho Highway</td>\n",
       "      <td>52</td>\n",
       "    </tr>\n",
       "  </tbody>\n",
       "</table>\n",
       "</div>"
      ],
      "text/plain": [
       "                   Date  County           Road/ Highway  \\\n",
       "18  2023-06-30 00:00:00  Nakuru  Nakuru Kericho Highway   \n",
       "\n",
       "    Total people confirmed dead  \n",
       "18                           52  "
      ]
     },
     "execution_count": 27,
     "metadata": {},
     "output_type": "execute_result"
    }
   ],
   "source": [
    "clean_df[clean_df[\"Total people confirmed dead\"] > 40]"
   ]
  },
  {
   "cell_type": "code",
   "execution_count": 28,
   "metadata": {
    "colab": {
     "base_uri": "https://localhost:8080/",
     "height": 528
    },
    "id": "4o8wUP1RcuIa",
    "outputId": "47529fc7-673b-45e5-afc2-efdfc5daee16"
   },
   "outputs": [
    {
     "data": {
      "image/png": "[encoded data removed]",
      "text/plain": [
       "<Figure size 1000x600 with 1 Axes>"
      ]
     },
     "metadata": {},
     "output_type": "display_data"
    }
   ],
   "source": [
    "location_based_casualty_df.plot(kind='scatter', x='County', y='Total people confirmed dead', figsize=(10, 6))\n",
    "plt.xlabel('County')\n",
    "plt.ylabel('Total people confirmed dead')\n",
    "plt.title('Scatter Plot of County vs Total people confirmed dead')\n",
    "plt.xticks(rotation=-75)\n",
    "plt.show()"
   ]
  },
  {
   "cell_type": "code",
   "execution_count": 29,
   "metadata": {
    "colab": {
     "base_uri": "https://localhost:8080/",
     "height": 551
    },
    "id": "8GY7PKXCj7wX",
    "outputId": "7be8da16-9d2c-4e18-d8ec-65429a755e91"
   },
   "outputs": [
    {
     "data": {
      "image/png": "[encoded data removed]",
      "text/plain": [
       "<Figure size 640x480 with 1 Axes>"
      ]
     },
     "metadata": {},
     "output_type": "display_data"
    }
   ],
   "source": [
    "location_based_casualty_df[\"County\"].value_counts().plot(kind=\"bar\")\n",
    "plt.xlabel(\"County\")\n",
    "plt.ylabel(\"Number of Accidents\")\n",
    "plt.title(\"Number of Accidents per County\")\n",
    "plt.show()"
   ]
  },
  {
   "cell_type": "markdown",
   "metadata": {
    "id": "G3Yl1CxIf5Jg"
   },
   "source": [
    "#### label encoding to convert county to numeric inorder of county with highest number of people dead\n"
   ]
  },
  {
   "cell_type": "code",
   "execution_count": 30,
   "metadata": {
    "colab": {
     "base_uri": "https://localhost:8080/",
     "height": 548
    },
    "id": "4Hksmeo5fvqB",
    "outputId": "5b5093b8-3d54-4e7b-b91f-b36fe1daf73e"
   },
   "outputs": [
    {
     "name": "stderr",
     "output_type": "stream",
     "text": [
      "C:\\Users\\ADMIN\\AppData\\Local\\Temp\\ipykernel_11772\\1589098982.py:4: SettingWithCopyWarning: \n",
      "A value is trying to be set on a copy of a slice from a DataFrame.\n",
      "Try using .loc[row_indexer,col_indexer] = value instead\n",
      "\n",
      "See the caveats in the documentation: https://pandas.pydata.org/pandas-docs/stable/user_guide/indexing.html#returning-a-view-versus-a-copy\n",
      "  location_based_casualty_df[\"County\"] = encoder.fit_transform(location_based_casualty_df[\"County\"])\n"
     ]
    },
    {
     "data": {
      "text/html": [
       "<div>\n",
       "<style scoped>\n",
       "    .dataframe tbody tr th:only-of-type {\n",
       "        vertical-align: middle;\n",
       "    }\n",
       "\n",
       "    .dataframe tbody tr th {\n",
       "        vertical-align: top;\n",
       "    }\n",
       "\n",
       "    .dataframe thead th {\n",
       "        text-align: right;\n",
       "    }\n",
       "</style>\n",
       "<table border=\"1\" class=\"dataframe\">\n",
       "  <thead>\n",
       "    <tr style=\"text-align: right;\">\n",
       "      <th></th>\n",
       "      <th>County</th>\n",
       "      <th>Total people confirmed dead</th>\n",
       "    </tr>\n",
       "  </thead>\n",
       "  <tbody>\n",
       "    <tr>\n",
       "      <th>0</th>\n",
       "      <td>19</td>\n",
       "      <td>4</td>\n",
       "    </tr>\n",
       "    <tr>\n",
       "      <th>1</th>\n",
       "      <td>19</td>\n",
       "      <td>1</td>\n",
       "    </tr>\n",
       "    <tr>\n",
       "      <th>2</th>\n",
       "      <td>20</td>\n",
       "      <td>4</td>\n",
       "    </tr>\n",
       "    <tr>\n",
       "      <th>3</th>\n",
       "      <td>20</td>\n",
       "      <td>3</td>\n",
       "    </tr>\n",
       "    <tr>\n",
       "      <th>4</th>\n",
       "      <td>7</td>\n",
       "      <td>1</td>\n",
       "    </tr>\n",
       "    <tr>\n",
       "      <th>...</th>\n",
       "      <td>...</td>\n",
       "      <td>...</td>\n",
       "    </tr>\n",
       "    <tr>\n",
       "      <th>76</th>\n",
       "      <td>25</td>\n",
       "      <td>1</td>\n",
       "    </tr>\n",
       "    <tr>\n",
       "      <th>77</th>\n",
       "      <td>3</td>\n",
       "      <td>1</td>\n",
       "    </tr>\n",
       "    <tr>\n",
       "      <th>78</th>\n",
       "      <td>19</td>\n",
       "      <td>1</td>\n",
       "    </tr>\n",
       "    <tr>\n",
       "      <th>79</th>\n",
       "      <td>19</td>\n",
       "      <td>4</td>\n",
       "    </tr>\n",
       "    <tr>\n",
       "      <th>80</th>\n",
       "      <td>19</td>\n",
       "      <td>2</td>\n",
       "    </tr>\n",
       "  </tbody>\n",
       "</table>\n",
       "<p>81 rows × 2 columns</p>\n",
       "</div>"
      ],
      "text/plain": [
       "    County  Total people confirmed dead\n",
       "0       19                            4\n",
       "1       19                            1\n",
       "2       20                            4\n",
       "3       20                            3\n",
       "4        7                            1\n",
       "..     ...                          ...\n",
       "76      25                            1\n",
       "77       3                            1\n",
       "78      19                            1\n",
       "79      19                            4\n",
       "80      19                            2\n",
       "\n",
       "[81 rows x 2 columns]"
      ]
     },
     "execution_count": 30,
     "metadata": {},
     "output_type": "execute_result"
    }
   ],
   "source": [
    "\n",
    "from sklearn.preprocessing import LabelEncoder\n",
    "\n",
    "encoder = LabelEncoder()\n",
    "location_based_casualty_df[\"County\"] = encoder.fit_transform(location_based_casualty_df[\"County\"])\n",
    "location_based_casualty_df"
   ]
  },
  {
   "cell_type": "code",
   "execution_count": 31,
   "metadata": {
    "colab": {
     "base_uri": "https://localhost:8080/",
     "height": 931
    },
    "id": "DfNoGOSDeylG",
    "outputId": "a2ca7524-e451-4de5-ef54-20651e266c43"
   },
   "outputs": [
    {
     "data": {
      "text/plain": [
       "County\n",
       "19    21\n",
       "22     6\n",
       "20     6\n",
       "9      6\n",
       "12     4\n",
       "14     3\n",
       "18     3\n",
       "0      3\n",
       "3      3\n",
       "7      3\n",
       "5      3\n",
       "13     2\n",
       "8      2\n",
       "15     2\n",
       "11     2\n",
       "10     2\n",
       "21     1\n",
       "23     1\n",
       "6      1\n",
       "1      1\n",
       "24     1\n",
       "2      1\n",
       "4      1\n",
       "16     1\n",
       "17     1\n",
       "25     1\n",
       "Name: count, dtype: int64"
      ]
     },
     "execution_count": 31,
     "metadata": {},
     "output_type": "execute_result"
    }
   ],
   "source": [
    "location_based_casualty_df[\"County\"].value_counts().sort_values(ascending=False)"
   ]
  },
  {
   "cell_type": "code",
   "execution_count": 32,
   "metadata": {
    "colab": {
     "base_uri": "https://localhost:8080/",
     "height": 511
    },
    "id": "_QEKIa75pwnO",
    "outputId": "5e11c8e7-a22b-4f98-f415-5af73da6c7cc"
   },
   "outputs": [
    {
     "name": "stderr",
     "output_type": "stream",
     "text": [
      "C:\\Users\\ADMIN\\AppData\\Local\\Temp\\ipykernel_11772\\3505259235.py:1: FutureWarning: A value is trying to be set on a copy of a DataFrame or Series through chained assignment using an inplace method.\n",
      "The behavior will change in pandas 3.0. This inplace method will never work because the intermediate object on which we are setting values always behaves as a copy.\n",
      "\n",
      "For example, when doing 'df[col].method(value, inplace=True)', try using 'df.method({col: value}, inplace=True)' or df[col] = df[col].method(value) instead, to perform the operation inplace on the original object.\n",
      "\n",
      "\n",
      "  location_based_casualty_df[\"Total people confirmed dead\"].fillna(0, inplace=True)\n",
      "C:\\Users\\ADMIN\\AppData\\Local\\Temp\\ipykernel_11772\\3505259235.py:1: SettingWithCopyWarning: \n",
      "A value is trying to be set on a copy of a slice from a DataFrame\n",
      "\n",
      "See the caveats in the documentation: https://pandas.pydata.org/pandas-docs/stable/user_guide/indexing.html#returning-a-view-versus-a-copy\n",
      "  location_based_casualty_df[\"Total people confirmed dead\"].fillna(0, inplace=True)\n",
      "C:\\Users\\ADMIN\\AppData\\Local\\Temp\\ipykernel_11772\\3505259235.py:2: SettingWithCopyWarning: \n",
      "A value is trying to be set on a copy of a slice from a DataFrame.\n",
      "Try using .loc[row_indexer,col_indexer] = value instead\n",
      "\n",
      "See the caveats in the documentation: https://pandas.pydata.org/pandas-docs/stable/user_guide/indexing.html#returning-a-view-versus-a-copy\n",
      "  location_based_casualty_df[\"county_safe_to_go\"] = location_based_casualty_df.apply(lambda row: 1 if row[\"Total people confirmed dead\"] < 10 else 0, axis=1)\n"
     ]
    },
    {
     "data": {
      "text/plain": [
       "county_safe_to_go\n",
       "1    72\n",
       "0     9\n",
       "Name: count, dtype: int64"
      ]
     },
     "execution_count": 32,
     "metadata": {},
     "output_type": "execute_result"
    }
   ],
   "source": [
    "location_based_casualty_df[\"Total people confirmed dead\"].fillna(0, inplace=True)\n",
    "location_based_casualty_df[\"county_safe_to_go\"] = location_based_casualty_df.apply(lambda row: 1 if row[\"Total people confirmed dead\"] < 10 else 0, axis=1)\n",
    "\n",
    "location_based_casualty_df[\"county_safe_to_go\"].value_counts()"
   ]
  },
  {
   "cell_type": "code",
   "execution_count": 33,
   "metadata": {
    "colab": {
     "base_uri": "https://localhost:8080/",
     "height": 424
    },
    "id": "AlxJP58vrCDb",
    "outputId": "37d9b6f6-430d-459c-f726-1ee9cb7b5081"
   },
   "outputs": [
    {
     "data": {
      "text/html": [
       "<div>\n",
       "<style scoped>\n",
       "    .dataframe tbody tr th:only-of-type {\n",
       "        vertical-align: middle;\n",
       "    }\n",
       "\n",
       "    .dataframe tbody tr th {\n",
       "        vertical-align: top;\n",
       "    }\n",
       "\n",
       "    .dataframe thead th {\n",
       "        text-align: right;\n",
       "    }\n",
       "</style>\n",
       "<table border=\"1\" class=\"dataframe\">\n",
       "  <thead>\n",
       "    <tr style=\"text-align: right;\">\n",
       "      <th></th>\n",
       "      <th>County</th>\n",
       "      <th>Total people confirmed dead</th>\n",
       "      <th>county_safe_to_go</th>\n",
       "    </tr>\n",
       "  </thead>\n",
       "  <tbody>\n",
       "    <tr>\n",
       "      <th>0</th>\n",
       "      <td>19</td>\n",
       "      <td>4</td>\n",
       "      <td>1</td>\n",
       "    </tr>\n",
       "    <tr>\n",
       "      <th>1</th>\n",
       "      <td>19</td>\n",
       "      <td>1</td>\n",
       "      <td>1</td>\n",
       "    </tr>\n",
       "    <tr>\n",
       "      <th>2</th>\n",
       "      <td>20</td>\n",
       "      <td>4</td>\n",
       "      <td>1</td>\n",
       "    </tr>\n",
       "    <tr>\n",
       "      <th>3</th>\n",
       "      <td>20</td>\n",
       "      <td>3</td>\n",
       "      <td>1</td>\n",
       "    </tr>\n",
       "    <tr>\n",
       "      <th>4</th>\n",
       "      <td>7</td>\n",
       "      <td>1</td>\n",
       "      <td>1</td>\n",
       "    </tr>\n",
       "    <tr>\n",
       "      <th>...</th>\n",
       "      <td>...</td>\n",
       "      <td>...</td>\n",
       "      <td>...</td>\n",
       "    </tr>\n",
       "    <tr>\n",
       "      <th>76</th>\n",
       "      <td>25</td>\n",
       "      <td>1</td>\n",
       "      <td>1</td>\n",
       "    </tr>\n",
       "    <tr>\n",
       "      <th>77</th>\n",
       "      <td>3</td>\n",
       "      <td>1</td>\n",
       "      <td>1</td>\n",
       "    </tr>\n",
       "    <tr>\n",
       "      <th>78</th>\n",
       "      <td>19</td>\n",
       "      <td>1</td>\n",
       "      <td>1</td>\n",
       "    </tr>\n",
       "    <tr>\n",
       "      <th>79</th>\n",
       "      <td>19</td>\n",
       "      <td>4</td>\n",
       "      <td>1</td>\n",
       "    </tr>\n",
       "    <tr>\n",
       "      <th>80</th>\n",
       "      <td>19</td>\n",
       "      <td>2</td>\n",
       "      <td>1</td>\n",
       "    </tr>\n",
       "  </tbody>\n",
       "</table>\n",
       "<p>81 rows × 3 columns</p>\n",
       "</div>"
      ],
      "text/plain": [
       "    County  Total people confirmed dead  county_safe_to_go\n",
       "0       19                            4                  1\n",
       "1       19                            1                  1\n",
       "2       20                            4                  1\n",
       "3       20                            3                  1\n",
       "4        7                            1                  1\n",
       "..     ...                          ...                ...\n",
       "76      25                            1                  1\n",
       "77       3                            1                  1\n",
       "78      19                            1                  1\n",
       "79      19                            4                  1\n",
       "80      19                            2                  1\n",
       "\n",
       "[81 rows x 3 columns]"
      ]
     },
     "execution_count": 33,
     "metadata": {},
     "output_type": "execute_result"
    }
   ],
   "source": [
    "location_based_casualty_df"
   ]
  },
  {
   "cell_type": "markdown",
   "metadata": {
    "id": "eIfQQtCer0-7"
   },
   "source": [
    "# **Model Training**"
   ]
  },
  {
   "cell_type": "code",
   "execution_count": 34,
   "metadata": {
    "id": "nw4MGHlqr_gi"
   },
   "outputs": [],
   "source": [
    "X = location_based_casualty_df[[\"County\", \"Total people confirmed dead\"]].values\n",
    "y = location_based_casualty_df[\"county_safe_to_go\"].values"
   ]
  },
  {
   "cell_type": "markdown",
   "metadata": {
    "id": "fULrGX3i-e1b"
   },
   "source": [
    "## Splitting data"
   ]
  },
  {
   "cell_type": "code",
   "execution_count": 35,
   "metadata": {
    "id": "rdORub9DtiCv"
   },
   "outputs": [],
   "source": [
    "from sklearn.model_selection import train_test_split\n",
    "X_train, X_test, y_train, y_test = train_test_split(X, y, test_size=.40, random_state=42) # random_state\n"
   ]
  },
  {
   "cell_type": "markdown",
   "metadata": {
    "id": "wTMMWP0T-QZD"
   },
   "source": [
    "## Scaling the data"
   ]
  },
  {
   "cell_type": "code",
   "execution_count": 36,
   "metadata": {
    "colab": {
     "base_uri": "https://localhost:8080/"
    },
    "id": "QDMoAUpmuPzE",
    "outputId": "e2340029-233f-43c6-f0ff-ec8692cc0436"
   },
   "outputs": [
    {
     "data": {
      "text/plain": [
       "((48, 2), (33, 2))"
      ]
     },
     "execution_count": 36,
     "metadata": {},
     "output_type": "execute_result"
    }
   ],
   "source": [
    "# Test whether scaling is necessarry\n",
    "from sklearn.preprocessing import StandardScaler\n",
    "scaler = StandardScaler()\n",
    "X_train_scaled = scaler.fit_transform(X_train)\n",
    "X_test_scaled = scaler.transform(X_test)\n",
    "\n",
    "X_train_scaled.shape, X_test_scaled.shape"
   ]
  },
  {
   "cell_type": "code",
   "execution_count": 37,
   "metadata": {
    "colab": {
     "base_uri": "https://localhost:8080/"
    },
    "id": "S5mq5PT2ffp-",
    "outputId": "ac3ff50d-d0dd-42bd-c2cb-f255e8332998"
   },
   "outputs": [
    {
     "name": "stdout",
     "output_type": "stream",
     "text": [
      "RandomForest: Accuracy: 1.0\n",
      "Cross Validation Score: 0.9800000000000001\n",
      "SVC: Accuracy: 0.9696969696969697\n",
      "Cross Validation Score: 0.9355555555555555\n",
      "Logistic Regression: Accuracy: 1.0\n",
      "Cross Validation Score: 0.9577777777777777\n",
      "KNN: Accuracy: 1.0\n",
      "Cross Validation Score: 0.9155555555555555\n"
     ]
    }
   ],
   "source": [
    "from sklearn.ensemble import RandomForestClassifier\n",
    "from sklearn.svm import SVC\n",
    "from sklearn.linear_model import LogisticRegression\n",
    "from sklearn.neighbors import KNeighborsClassifier\n",
    "from sklearn.metrics import accuracy_score\n",
    "from sklearn.model_selection import KFold\n",
    "from sklearn.model_selection import cross_val_score\n",
    "\n",
    "\n",
    "\n",
    "models = {\"RandomForest\": RandomForestClassifier(), # random forest classifier model\n",
    "          \"SVC\":SVC(), # support vector classifier model\n",
    "          \"Logistic Regression\":LogisticRegression(), # logistic regression model\n",
    "          \"KNN\": KNeighborsClassifier() # K-nearest neighbors model\n",
    "          }\n",
    "\n",
    "\n",
    "results = {}\n",
    "cross_val_scores = {}\n",
    "kf = KFold(n_splits=5, shuffle=True, random_state=42)\n",
    "\n",
    "for name, model in models.items():\n",
    "    # cross validation to prevent overfitting\n",
    "    scores = cross_val_score(model, X_train_scaled, y_train, cv=kf, scoring='accuracy')\n",
    "    cross_val_scores[name] = scores.mean()\n",
    "    model.fit(X_train_scaled, y_train)\n",
    "    predictions = model.predict(X_test_scaled)\n",
    "    accuracy = accuracy_score(y_test, predictions)\n",
    "    results[name] = accuracy\n",
    "    print(f\"{name}: Accuracy: {accuracy}\") # accuracy close to 1\n",
    "    print(f\"Cross Validation Score: {scores.mean()}\")"
   ]
  },
  {
   "cell_type": "code",
   "execution_count": 41,
   "metadata": {},
   "outputs": [
    {
     "ename": "ModuleNotFoundError",
     "evalue": "No module named 'seaborn'",
     "output_type": "error",
     "traceback": [
      "\u001b[1;31m---------------------------------------------------------------------------\u001b[0m",
      "\u001b[1;31mModuleNotFoundError\u001b[0m                       Traceback (most recent call last)",
      "Cell \u001b[1;32mIn[41], line 3\u001b[0m\n\u001b[0;32m      1\u001b[0m \u001b[38;5;28;01mfrom\u001b[39;00m \u001b[38;5;21;01msklearn\u001b[39;00m\u001b[38;5;21;01m.\u001b[39;00m\u001b[38;5;21;01mmetrics\u001b[39;00m \u001b[38;5;28;01mimport\u001b[39;00m confusion_matrix\n\u001b[0;32m      2\u001b[0m \u001b[38;5;28;01mimport\u001b[39;00m \u001b[38;5;21;01mmatplotlib\u001b[39;00m\u001b[38;5;21;01m.\u001b[39;00m\u001b[38;5;21;01mpyplot\u001b[39;00m \u001b[38;5;28;01mas\u001b[39;00m \u001b[38;5;21;01mplt\u001b[39;00m\n\u001b[1;32m----> 3\u001b[0m \u001b[38;5;28;01mimport\u001b[39;00m \u001b[38;5;21;01mseaborn\u001b[39;00m \u001b[38;5;28;01mas\u001b[39;00m \u001b[38;5;21;01msns\u001b[39;00m\n\u001b[0;32m      5\u001b[0m \u001b[38;5;66;03m# Assuming you have already trained your model and have X_test_scaled and y_test\u001b[39;00m\n\u001b[0;32m      6\u001b[0m y_pred \u001b[38;5;241m=\u001b[39m model\u001b[38;5;241m.\u001b[39mpredict(X_test_scaled)\n",
      "\u001b[1;31mModuleNotFoundError\u001b[0m: No module named 'seaborn'"
     ]
    }
   ],
   "source": [
    "from sklearn.metrics import confusion_matrix\n",
    "import matplotlib.pyplot as plt\n",
    "import seaborn as sns\n",
    "\n",
    "# Assuming you have already trained your model and have X_test_scaled and y_test\n",
    "y_pred = model.predict(X_test_scaled)\n",
    "\n",
    "# Generate the confusion matrix\n",
    "cm = confusion_matrix(y_test, y_pred)\n",
    "\n",
    "# Plot the confusion matrix\n",
    "plt.figure(figsize=(10, 7))\n",
    "sns.heatmap(cm, annot=True, fmt='d', cmap='Blues', xticklabels=['Safe', 'Unsafe'], yticklabels=['Safe', 'Unsafe'])\n",
    "plt.xlabel('Predicted')\n",
    "plt.ylabel('Actual')\n",
    "plt.title('Confusion Matrix')\n",
    "plt.show()"
   ]
  },
  {
   "cell_type": "code",
   "execution_count": 22,
   "metadata": {
    "colab": {
     "base_uri": "https://localhost:8080/",
     "height": 472
    },
    "id": "0pgjueADqlw6",
    "outputId": "4471113f-c706-41fe-81bc-6a64a4fc2b9b"
   },
   "outputs": [
    {
     "data": {
      "image/png": "[encoded data removed]",
      "text/plain": [
       "<Figure size 640x480 with 1 Axes>"
      ]
     },
     "metadata": {},
     "output_type": "display_data"
    }
   ],
   "source": [
    "import matplotlib.pyplot as plt\n",
    "plt.bar(cross_val_scores.keys(), cross_val_scores.values())\n",
    "plt.xlabel(\"Model\")\n",
    "plt.ylabel(\"Accuracy\")\n",
    "plt.title(\"Model Accuracy\")\n",
    "plt.show()"
   ]
  },
  {
   "cell_type": "markdown",
   "metadata": {
    "id": "EB8sJXF9rtJK"
   },
   "source": [
    "# Hyper-parameter Tuning"
   ]
  },
  {
   "cell_type": "code",
   "execution_count": 23,
   "metadata": {
    "colab": {
     "base_uri": "https://localhost:8080/"
    },
    "id": "MLg5E2HMrsG5",
    "outputId": "6c72df53-031e-49a5-b56d-102da912ccdd"
   },
   "outputs": [
    {
     "name": "stderr",
     "output_type": "stream",
     "text": [
      "C:\\Users\\ADMIN\\AppData\\Local\\Packages\\PythonSoftwareFoundation.Python.3.11_qbz5n2kfra8p0\\LocalCache\\local-packages\\Python311\\site-packages\\sklearn\\model_selection\\_split.py:805: UserWarning: The least populated class in y has only 4 members, which is less than n_splits=5.\n",
      "  warnings.warn(\n"
     ]
    },
    {
     "name": "stdout",
     "output_type": "stream",
     "text": [
      "RandomForest: Best Score: 0.9800000000000001\n",
      "SVC: Best Score: 1.0\n"
     ]
    },
    {
     "name": "stderr",
     "output_type": "stream",
     "text": [
      "C:\\Users\\ADMIN\\AppData\\Local\\Packages\\PythonSoftwareFoundation.Python.3.11_qbz5n2kfra8p0\\LocalCache\\local-packages\\Python311\\site-packages\\sklearn\\model_selection\\_split.py:805: UserWarning: The least populated class in y has only 4 members, which is less than n_splits=5.\n",
      "  warnings.warn(\n",
      "C:\\Users\\ADMIN\\AppData\\Local\\Packages\\PythonSoftwareFoundation.Python.3.11_qbz5n2kfra8p0\\LocalCache\\local-packages\\Python311\\site-packages\\sklearn\\model_selection\\_split.py:805: UserWarning: The least populated class in y has only 4 members, which is less than n_splits=5.\n",
      "  warnings.warn(\n",
      "C:\\Users\\ADMIN\\AppData\\Local\\Packages\\PythonSoftwareFoundation.Python.3.11_qbz5n2kfra8p0\\LocalCache\\local-packages\\Python311\\site-packages\\sklearn\\linear_model\\_sag.py:348: ConvergenceWarning: The max_iter was reached which means the coef_ did not converge\n",
      "  warnings.warn(\n",
      "C:\\Users\\ADMIN\\AppData\\Local\\Packages\\PythonSoftwareFoundation.Python.3.11_qbz5n2kfra8p0\\LocalCache\\local-packages\\Python311\\site-packages\\sklearn\\linear_model\\_sag.py:348: ConvergenceWarning: The max_iter was reached which means the coef_ did not converge\n",
      "  warnings.warn(\n",
      "C:\\Users\\ADMIN\\AppData\\Local\\Packages\\PythonSoftwareFoundation.Python.3.11_qbz5n2kfra8p0\\LocalCache\\local-packages\\Python311\\site-packages\\sklearn\\linear_model\\_sag.py:348: ConvergenceWarning: The max_iter was reached which means the coef_ did not converge\n",
      "  warnings.warn(\n",
      "C:\\Users\\ADMIN\\AppData\\Local\\Packages\\PythonSoftwareFoundation.Python.3.11_qbz5n2kfra8p0\\LocalCache\\local-packages\\Python311\\site-packages\\sklearn\\model_selection\\_split.py:805: UserWarning: The least populated class in y has only 4 members, which is less than n_splits=5.\n",
      "  warnings.warn(\n"
     ]
    },
    {
     "name": "stdout",
     "output_type": "stream",
     "text": [
      "Logistic Regression: Best Score: 1.0\n",
      "KNN: Best Score: 0.9800000000000001\n"
     ]
    }
   ],
   "source": [
    "# hyper parameter tuning\n",
    "\n",
    "from sklearn.model_selection import GridSearchCV\n",
    "from sklearn.ensemble import RandomForestClassifier\n",
    "from sklearn.svm import SVC\n",
    "from sklearn.linear_model import LogisticRegression\n",
    "from sklearn.neighbors import KNeighborsClassifier\n",
    "from sklearn.model_selection import StratifiedKFold\n",
    "\n",
    "models = {\"RandomForest\": RandomForestClassifier(), # random forest classifier model\n",
    "          \"SVC\":SVC(), # support vector classifier model\n",
    "          \"Logistic Regression\":LogisticRegression(), # logistic regression model\n",
    "          \"KNN\": KNeighborsClassifier() # K-nearest neighbors model\n",
    "          }\n",
    "\n",
    "params = {\"RandomForest\": {\n",
    "            \"n_estimators\": [100, 200, 300],\n",
    "            \"max_depth\": [None, 10, 20],\n",
    "            },\n",
    "          \"SVC\": {\n",
    "              \"C\": [0.1, 1, 10],\n",
    "              \"kernel\": [\"linear\", \"rbf\"],\n",
    "            },\n",
    "          \"Logistic Regression\": {\n",
    "              \"C\": [0.1, 1, 10],\n",
    "              \"penalty\": [\"l1\", \"l2\"],\n",
    "              \"solver\": [\"liblinear\", \"saga\"],\n",
    "            },\n",
    "          \"KNN\": {\n",
    "              \"n_neighbors\": [3, 5, 7], # 3,5,7 means that\n",
    "              \"weights\": [\"uniform\", \"distance\"],\n",
    "\n",
    "            },\n",
    "          }\n",
    "\n",
    "grid_search_results = {}\n",
    "best_models = {}\n",
    "best_scores = {}\n",
    "for name, model in models.items():\n",
    "    # using stratifiedKFold\n",
    "    skf = StratifiedKFold(n_splits=5, shuffle=True, random_state=42)\n",
    "    grid_search = GridSearchCV(model, params[name], cv=skf)\n",
    "\n",
    "    # # For Logistic Regression with 'saga' solver increase max iter\n",
    "    if name == \"Logistic Regression\" and \"saga\" in params[name][\"solver\"]:\n",
    "        # Update the params dictionary for Logistic Regression\n",
    "        params[name]['max_iter'] = [1000]  # Add max_iter to the param grid\n",
    "        # Re-initialize GridSearchCV with the updated params\n",
    "        grid_search = GridSearchCV(model, params[name], cv=skf)\n",
    "\n",
    "    grid_search.fit(X_train_scaled, y_train)\n",
    "    grid_search_results[name] = grid_search\n",
    "    best_models[name] = grid_search.best_estimator_\n",
    "    best_scores[name] = grid_search.best_score_\n",
    "    print(f\"{name}: Best Score: {grid_search.best_score_}\")\n",
    "    # print(f\"{name}: Best Params: {grid_search.best_params_}\")\n",
    "\n",
    "\n",
    "\n",
    "\n"
   ]
  },
  {
   "cell_type": "code",
   "execution_count": 24,
   "metadata": {
    "colab": {
     "base_uri": "https://localhost:8080/",
     "height": 472
    },
    "id": "1tpIv3aY7H5w",
    "outputId": "9effdcec-435c-4872-b4c3-0aa3f477e90e"
   },
   "outputs": [
    {
     "data": {
      "image/png": "[encoded data removed]",
      "text/plain": [
       "<Figure size 640x480 with 1 Axes>"
      ]
     },
     "metadata": {},
     "output_type": "display_data"
    }
   ],
   "source": [
    "#plot the results\n",
    "plt.bar(best_scores.keys(), best_scores.values())\n",
    "plt.xlabel(\"Model\")\n",
    "plt.ylabel(\"Accuracy\")\n",
    "plt.title(\"Post Hyper Parameter Accuracy\")\n",
    "plt.show()"
   ]
  },
  {
   "cell_type": "code",
   "execution_count": 25,
   "metadata": {
    "colab": {
     "base_uri": "https://localhost:8080/"
    },
    "id": "RYedSXIJ02Hx",
    "outputId": "0995c7ed-3b13-4a54-dc30-788bb052b928"
   },
   "outputs": [
    {
     "name": "stdout",
     "output_type": "stream",
     "text": [
      "Report for RandomForest:\n",
      "              precision    recall  f1-score   support\n",
      "\n",
      "           0       1.00      1.00      1.00         5\n",
      "           1       1.00      1.00      1.00        28\n",
      "\n",
      "    accuracy                           1.00        33\n",
      "   macro avg       1.00      1.00      1.00        33\n",
      "weighted avg       1.00      1.00      1.00        33\n",
      " \n",
      "\n",
      "Report for SVC:\n",
      "              precision    recall  f1-score   support\n",
      "\n",
      "           0       1.00      1.00      1.00         5\n",
      "           1       1.00      1.00      1.00        28\n",
      "\n",
      "    accuracy                           1.00        33\n",
      "   macro avg       1.00      1.00      1.00        33\n",
      "weighted avg       1.00      1.00      1.00        33\n",
      " \n",
      "\n",
      "Report for Logistic Regression:\n",
      "              precision    recall  f1-score   support\n",
      "\n",
      "           0       1.00      1.00      1.00         5\n",
      "           1       1.00      1.00      1.00        28\n",
      "\n",
      "    accuracy                           1.00        33\n",
      "   macro avg       1.00      1.00      1.00        33\n",
      "weighted avg       1.00      1.00      1.00        33\n",
      " \n",
      "\n",
      "Report for KNN:\n",
      "              precision    recall  f1-score   support\n",
      "\n",
      "           0       1.00      1.00      1.00         5\n",
      "           1       1.00      1.00      1.00        28\n",
      "\n",
      "    accuracy                           1.00        33\n",
      "   macro avg       1.00      1.00      1.00        33\n",
      "weighted avg       1.00      1.00      1.00        33\n",
      " \n",
      "\n"
     ]
    }
   ],
   "source": [
    "from sklearn.metrics import classification_report\n",
    "#evaluate the best model\n",
    "for name , model in best_models.items():\n",
    "    print(f\"Report for {name}:\")\n",
    "    y_pred = model.predict(X_test_scaled)\n",
    "    report = classification_report(y_test,y_pred)\n",
    "    print(report, \"\\n\")\n"
   ]
  },
  {
   "cell_type": "code",
   "execution_count": 26,
   "metadata": {
    "colab": {
     "base_uri": "https://localhost:8080/",
     "height": 577
    },
    "id": "-WyPKvUR8fJ5",
    "outputId": "c5e4be09-a73c-4631-8e9c-e6717f6bc9c3"
   },
   "outputs": [
    {
     "data": {
      "image/png": "[encoded data removed]",
      "text/plain": [
       "<Figure size 800x600 with 1 Axes>"
      ]
     },
     "metadata": {},
     "output_type": "display_data"
    },
    {
     "name": "stdout",
     "output_type": "stream",
     "text": [
      "AUC: 1.00\n"
     ]
    }
   ],
   "source": [
    "from sklearn.metrics import roc_curve, roc_auc_score\n",
    "fpr, tpr, thresholds = roc_curve(y_test, y_pred)\n",
    "#auc score\n",
    "roc_auc = roc_auc_score(y_test, y_pred)\n",
    "\n",
    "# Plot the ROC curve\n",
    "plt.figure(figsize=(8, 6))\n",
    "plt.plot(fpr, tpr, color='blue', label=f'ROC curve (AUC = {roc_auc:.2f})')\n",
    "plt.plot([0, 1], [0, 1], color='gray', linestyle='--')  # Random classifier line\n",
    "plt.xlabel('False Positive Rate')\n",
    "plt.ylabel('True Positive Rate')\n",
    "plt.title('Receiver Operating Characteristic (ROC) Curve')\n",
    "plt.legend(loc='best')\n",
    "plt.grid(True)\n",
    "plt.show()\n",
    "\n",
    "# Print the AUC score\n",
    "print(f\"AUC: {roc_auc:.2f}\")"
   ]
  }
 ],
 "metadata": {
  "colab": {
   "provenance": []
  },
  "kernelspec": {
   "display_name": "Python 3",
   "name": "python3"
  },
  "language_info": {
   "codemirror_mode": {
    "name": "ipython",
    "version": 3
   },
   "file_extension": ".py",
   "mimetype": "text/x-python",
   "name": "python",
   "nbconvert_exporter": "python",
   "pygments_lexer": "ipython3",
   "version": "3.11.9"
  }
 },
 "nbformat": 4,
 "nbformat_minor": 0
}
